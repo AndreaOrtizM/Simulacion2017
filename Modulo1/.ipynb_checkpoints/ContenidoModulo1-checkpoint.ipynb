{
 "cells": [
  {
   "cell_type": "markdown",
   "metadata": {},
   "source": [
    "### ¿Qué se va a cubrir en este modulo?"
   ]
  },
  {
   "cell_type": "markdown",
   "metadata": {},
   "source": [
    "1. ¿Qué es una simulación?\n",
    "    - Introducción e instalación de software\n",
    "2. ¿Cómo funciona **Git** ?\n",
    "3. ¿Cómo funciona **Github** ?\n",
    "4. ¿Cómo se muve un péndulo ? \n",
    "5. ¿Cómo funciona la suspensión de un auto? \n",
    "6. ¿Cómo crece una población?\n",
    "7. Modelo del rendimiento de una cuenta de ahorro.\n",
    "8. ¿Cómo vibra un tambor cuando lo golpeas?"
   ]
  },
  {
   "cell_type": "markdown",
   "metadata": {},
   "source": [
    "> ¿Qué es una simulación?"
   ]
  },
  {
   "cell_type": "code",
   "execution_count": 8,
   "metadata": {
    "collapsed": false
   },
   "outputs": [
    {
     "name": "stdout",
     "output_type": "stream",
     "text": [
      "ContenidoModulo1.ipynb\r\n"
     ]
    }
   ],
   "source": [
    "ls"
   ]
  },
  {
   "cell_type": "markdown",
   "metadata": {},
   "source": [
    "https://try.github.io"
   ]
  },
  {
   "cell_type": "code",
   "execution_count": null,
   "metadata": {
    "collapsed": true
   },
   "outputs": [],
   "source": []
  }
 ],
 "metadata": {
  "kernelspec": {
   "display_name": "Python [Root]",
   "language": "python",
   "name": "Python [Root]"
  },
  "language_info": {
   "codemirror_mode": {
    "name": "ipython",
    "version": 3
   },
   "file_extension": ".py",
   "mimetype": "text/x-python",
   "name": "python",
   "nbconvert_exporter": "python",
   "pygments_lexer": "ipython3",
   "version": "3.5.2"
  }
 },
 "nbformat": 4,
 "nbformat_minor": 0
}
